{
 "cells": [
  {
   "cell_type": "markdown",
   "id": "0e6897a1-0425-4b60-9d47-abf624e13731",
   "metadata": {},
   "source": [
    "# Predicting Customers for Credit validation"
   ]
  },
  {
   "cell_type": "markdown",
   "id": "464f9fc0-10a0-4c88-9773-006b4a84caa5",
   "metadata": {
    "tags": []
   },
   "source": [
    "### Reading and Cleaning the data"
   ]
  },
  {
   "cell_type": "code",
   "execution_count": 1,
   "id": "02e0bd88-6632-49c7-82d7-aac92fc7ac56",
   "metadata": {},
   "outputs": [],
   "source": [
    "import pandas as pd \n",
    "import numpy as np \n",
    "import matplotlib.pyplot as plt\n",
    "import seaborn as sns \n",
    "%matplotlib inline "
   ]
  },
  {
   "cell_type": "code",
   "execution_count": 2,
   "id": "10f2dc11-2d7b-4a39-8917-9697f67fc4f0",
   "metadata": {},
   "outputs": [],
   "source": [
    "data = pd.read_csv('data_train.csv')"
   ]
  },
  {
   "cell_type": "code",
   "execution_count": 3,
   "id": "bc73ec5a-019e-4219-93b5-9c2c53836e44",
   "metadata": {},
   "outputs": [
    {
     "data": {
      "text/html": [
       "<div>\n",
       "<style scoped>\n",
       "    .dataframe tbody tr th:only-of-type {\n",
       "        vertical-align: middle;\n",
       "    }\n",
       "\n",
       "    .dataframe tbody tr th {\n",
       "        vertical-align: top;\n",
       "    }\n",
       "\n",
       "    .dataframe thead th {\n",
       "        text-align: right;\n",
       "    }\n",
       "</style>\n",
       "<table border=\"1\" class=\"dataframe\">\n",
       "  <thead>\n",
       "    <tr style=\"text-align: right;\">\n",
       "      <th></th>\n",
       "      <th>label</th>\n",
       "      <th>Age</th>\n",
       "      <th>Language</th>\n",
       "      <th>Sex</th>\n",
       "      <th>Marital</th>\n",
       "      <th>Has_Credit</th>\n",
       "      <th>Field</th>\n",
       "      <th>Month_of_birth</th>\n",
       "      <th>Day_of_birth</th>\n",
       "      <th>Region</th>\n",
       "      <th>Number_of_credits</th>\n",
       "      <th>Linked_cards</th>\n",
       "      <th>INPS_mln_sum</th>\n",
       "      <th>INPS_yes_no</th>\n",
       "      <th>Score_level</th>\n",
       "      <th>Score_class</th>\n",
       "      <th>Score_point</th>\n",
       "      <th>Changed_phone_number</th>\n",
       "    </tr>\n",
       "  </thead>\n",
       "  <tbody>\n",
       "    <tr>\n",
       "      <th>0</th>\n",
       "      <td>0</td>\n",
       "      <td>34</td>\n",
       "      <td>1</td>\n",
       "      <td>2</td>\n",
       "      <td>6</td>\n",
       "      <td>2</td>\n",
       "      <td>13</td>\n",
       "      <td>12</td>\n",
       "      <td>1</td>\n",
       "      <td>12</td>\n",
       "      <td>1</td>\n",
       "      <td>0</td>\n",
       "      <td>0.0</td>\n",
       "      <td>0</td>\n",
       "      <td>0</td>\n",
       "      <td>0</td>\n",
       "      <td>-</td>\n",
       "      <td>1</td>\n",
       "    </tr>\n",
       "    <tr>\n",
       "      <th>1</th>\n",
       "      <td>0</td>\n",
       "      <td>38</td>\n",
       "      <td>1</td>\n",
       "      <td>1</td>\n",
       "      <td>5</td>\n",
       "      <td>1</td>\n",
       "      <td>10</td>\n",
       "      <td>7</td>\n",
       "      <td>1</td>\n",
       "      <td>13</td>\n",
       "      <td>1</td>\n",
       "      <td>2</td>\n",
       "      <td>0.0</td>\n",
       "      <td>0</td>\n",
       "      <td>0</td>\n",
       "      <td>0</td>\n",
       "      <td>-</td>\n",
       "      <td>1</td>\n",
       "    </tr>\n",
       "    <tr>\n",
       "      <th>2</th>\n",
       "      <td>0</td>\n",
       "      <td>35</td>\n",
       "      <td>1</td>\n",
       "      <td>2</td>\n",
       "      <td>4</td>\n",
       "      <td>2</td>\n",
       "      <td>9</td>\n",
       "      <td>8</td>\n",
       "      <td>1</td>\n",
       "      <td>13</td>\n",
       "      <td>4</td>\n",
       "      <td>1</td>\n",
       "      <td>1.0</td>\n",
       "      <td>1</td>\n",
       "      <td>0</td>\n",
       "      <td>0</td>\n",
       "      <td>-</td>\n",
       "      <td>1</td>\n",
       "    </tr>\n",
       "    <tr>\n",
       "      <th>3</th>\n",
       "      <td>0</td>\n",
       "      <td>27</td>\n",
       "      <td>1</td>\n",
       "      <td>1</td>\n",
       "      <td>5</td>\n",
       "      <td>2</td>\n",
       "      <td>13</td>\n",
       "      <td>7</td>\n",
       "      <td>1</td>\n",
       "      <td>12</td>\n",
       "      <td>1</td>\n",
       "      <td>2</td>\n",
       "      <td>1.0</td>\n",
       "      <td>0</td>\n",
       "      <td>0</td>\n",
       "      <td>0</td>\n",
       "      <td>-</td>\n",
       "      <td>1</td>\n",
       "    </tr>\n",
       "    <tr>\n",
       "      <th>4</th>\n",
       "      <td>0</td>\n",
       "      <td>32</td>\n",
       "      <td>1</td>\n",
       "      <td>2</td>\n",
       "      <td>4</td>\n",
       "      <td>2</td>\n",
       "      <td>10</td>\n",
       "      <td>7</td>\n",
       "      <td>1</td>\n",
       "      <td>13</td>\n",
       "      <td>3</td>\n",
       "      <td>1</td>\n",
       "      <td>2.0</td>\n",
       "      <td>1</td>\n",
       "      <td>0</td>\n",
       "      <td>0</td>\n",
       "      <td>-</td>\n",
       "      <td>1</td>\n",
       "    </tr>\n",
       "  </tbody>\n",
       "</table>\n",
       "</div>"
      ],
      "text/plain": [
       "   label  Age  Language  Sex  Marital  Has_Credit  Field  Month_of_birth  \\\n",
       "0      0   34         1    2        6           2     13              12   \n",
       "1      0   38         1    1        5           1     10               7   \n",
       "2      0   35         1    2        4           2      9               8   \n",
       "3      0   27         1    1        5           2     13               7   \n",
       "4      0   32         1    2        4           2     10               7   \n",
       "\n",
       "   Day_of_birth  Region  Number_of_credits  Linked_cards  INPS_mln_sum  \\\n",
       "0             1      12                  1             0           0.0   \n",
       "1             1      13                  1             2           0.0   \n",
       "2             1      13                  4             1           1.0   \n",
       "3             1      12                  1             2           1.0   \n",
       "4             1      13                  3             1           2.0   \n",
       "\n",
       "   INPS_yes_no  Score_level  Score_class Score_point  Changed_phone_number  \n",
       "0            0            0            0           -                     1  \n",
       "1            0            0            0           -                     1  \n",
       "2            1            0            0           -                     1  \n",
       "3            0            0            0           -                     1  \n",
       "4            1            0            0           -                     1  "
      ]
     },
     "execution_count": 3,
     "metadata": {},
     "output_type": "execute_result"
    }
   ],
   "source": [
    "data.head()"
   ]
  },
  {
   "cell_type": "code",
   "execution_count": 4,
   "id": "d500207e-eefc-44d4-b0ec-016b1804baec",
   "metadata": {},
   "outputs": [
    {
     "data": {
      "text/html": [
       "<div>\n",
       "<style scoped>\n",
       "    .dataframe tbody tr th:only-of-type {\n",
       "        vertical-align: middle;\n",
       "    }\n",
       "\n",
       "    .dataframe tbody tr th {\n",
       "        vertical-align: top;\n",
       "    }\n",
       "\n",
       "    .dataframe thead th {\n",
       "        text-align: right;\n",
       "    }\n",
       "</style>\n",
       "<table border=\"1\" class=\"dataframe\">\n",
       "  <thead>\n",
       "    <tr style=\"text-align: right;\">\n",
       "      <th></th>\n",
       "      <th>label</th>\n",
       "      <th>Age</th>\n",
       "      <th>Language</th>\n",
       "      <th>Sex</th>\n",
       "      <th>Marital</th>\n",
       "      <th>Has_Credit</th>\n",
       "      <th>Field</th>\n",
       "      <th>Month_of_birth</th>\n",
       "      <th>Day_of_birth</th>\n",
       "      <th>Region</th>\n",
       "      <th>Number_of_credits</th>\n",
       "      <th>Linked_cards</th>\n",
       "      <th>INPS_mln_sum</th>\n",
       "      <th>INPS_yes_no</th>\n",
       "      <th>Score_level</th>\n",
       "      <th>Score_class</th>\n",
       "      <th>Changed_phone_number</th>\n",
       "    </tr>\n",
       "  </thead>\n",
       "  <tbody>\n",
       "    <tr>\n",
       "      <th>count</th>\n",
       "      <td>8707.000000</td>\n",
       "      <td>8707.000000</td>\n",
       "      <td>8707.000000</td>\n",
       "      <td>8707.000000</td>\n",
       "      <td>8707.000000</td>\n",
       "      <td>8707.000000</td>\n",
       "      <td>8707.000000</td>\n",
       "      <td>8707.000000</td>\n",
       "      <td>8707.000000</td>\n",
       "      <td>8707.000000</td>\n",
       "      <td>8707.000000</td>\n",
       "      <td>8707.000000</td>\n",
       "      <td>8707.000000</td>\n",
       "      <td>8707.000000</td>\n",
       "      <td>8707.000000</td>\n",
       "      <td>8707.000000</td>\n",
       "      <td>8707.000000</td>\n",
       "    </tr>\n",
       "    <tr>\n",
       "      <th>mean</th>\n",
       "      <td>0.923050</td>\n",
       "      <td>37.690479</td>\n",
       "      <td>1.147468</td>\n",
       "      <td>1.622488</td>\n",
       "      <td>4.540829</td>\n",
       "      <td>1.032043</td>\n",
       "      <td>10.485012</td>\n",
       "      <td>6.360859</td>\n",
       "      <td>1.462157</td>\n",
       "      <td>11.207190</td>\n",
       "      <td>1.119789</td>\n",
       "      <td>1.100838</td>\n",
       "      <td>2.132932</td>\n",
       "      <td>0.957505</td>\n",
       "      <td>0.547491</td>\n",
       "      <td>1.082807</td>\n",
       "      <td>0.112094</td>\n",
       "    </tr>\n",
       "    <tr>\n",
       "      <th>std</th>\n",
       "      <td>0.266527</td>\n",
       "      <td>10.750031</td>\n",
       "      <td>0.354592</td>\n",
       "      <td>0.484792</td>\n",
       "      <td>1.053161</td>\n",
       "      <td>0.176125</td>\n",
       "      <td>5.597442</td>\n",
       "      <td>3.405988</td>\n",
       "      <td>0.498594</td>\n",
       "      <td>3.020191</td>\n",
       "      <td>0.366915</td>\n",
       "      <td>0.315294</td>\n",
       "      <td>2.225331</td>\n",
       "      <td>0.201726</td>\n",
       "      <td>1.190702</td>\n",
       "      <td>2.447644</td>\n",
       "      <td>0.344394</td>\n",
       "    </tr>\n",
       "    <tr>\n",
       "      <th>min</th>\n",
       "      <td>0.000000</td>\n",
       "      <td>19.000000</td>\n",
       "      <td>1.000000</td>\n",
       "      <td>1.000000</td>\n",
       "      <td>1.000000</td>\n",
       "      <td>1.000000</td>\n",
       "      <td>0.000000</td>\n",
       "      <td>1.000000</td>\n",
       "      <td>1.000000</td>\n",
       "      <td>0.000000</td>\n",
       "      <td>1.000000</td>\n",
       "      <td>0.000000</td>\n",
       "      <td>0.000000</td>\n",
       "      <td>0.000000</td>\n",
       "      <td>0.000000</td>\n",
       "      <td>0.000000</td>\n",
       "      <td>0.000000</td>\n",
       "    </tr>\n",
       "    <tr>\n",
       "      <th>25%</th>\n",
       "      <td>1.000000</td>\n",
       "      <td>29.000000</td>\n",
       "      <td>1.000000</td>\n",
       "      <td>1.000000</td>\n",
       "      <td>4.000000</td>\n",
       "      <td>1.000000</td>\n",
       "      <td>6.000000</td>\n",
       "      <td>3.000000</td>\n",
       "      <td>1.000000</td>\n",
       "      <td>12.000000</td>\n",
       "      <td>1.000000</td>\n",
       "      <td>1.000000</td>\n",
       "      <td>1.000000</td>\n",
       "      <td>1.000000</td>\n",
       "      <td>0.000000</td>\n",
       "      <td>0.000000</td>\n",
       "      <td>0.000000</td>\n",
       "    </tr>\n",
       "    <tr>\n",
       "      <th>50%</th>\n",
       "      <td>1.000000</td>\n",
       "      <td>36.000000</td>\n",
       "      <td>1.000000</td>\n",
       "      <td>2.000000</td>\n",
       "      <td>4.000000</td>\n",
       "      <td>1.000000</td>\n",
       "      <td>13.000000</td>\n",
       "      <td>6.000000</td>\n",
       "      <td>1.000000</td>\n",
       "      <td>12.000000</td>\n",
       "      <td>1.000000</td>\n",
       "      <td>1.000000</td>\n",
       "      <td>1.700000</td>\n",
       "      <td>1.000000</td>\n",
       "      <td>0.000000</td>\n",
       "      <td>0.000000</td>\n",
       "      <td>0.000000</td>\n",
       "    </tr>\n",
       "    <tr>\n",
       "      <th>75%</th>\n",
       "      <td>1.000000</td>\n",
       "      <td>44.000000</td>\n",
       "      <td>1.000000</td>\n",
       "      <td>2.000000</td>\n",
       "      <td>5.000000</td>\n",
       "      <td>1.000000</td>\n",
       "      <td>14.000000</td>\n",
       "      <td>9.000000</td>\n",
       "      <td>2.000000</td>\n",
       "      <td>13.000000</td>\n",
       "      <td>1.000000</td>\n",
       "      <td>1.000000</td>\n",
       "      <td>2.800000</td>\n",
       "      <td>1.000000</td>\n",
       "      <td>0.000000</td>\n",
       "      <td>0.000000</td>\n",
       "      <td>0.000000</td>\n",
       "    </tr>\n",
       "    <tr>\n",
       "      <th>max</th>\n",
       "      <td>1.000000</td>\n",
       "      <td>79.000000</td>\n",
       "      <td>2.000000</td>\n",
       "      <td>2.000000</td>\n",
       "      <td>7.000000</td>\n",
       "      <td>2.000000</td>\n",
       "      <td>22.000000</td>\n",
       "      <td>12.000000</td>\n",
       "      <td>2.000000</td>\n",
       "      <td>14.000000</td>\n",
       "      <td>5.000000</td>\n",
       "      <td>4.000000</td>\n",
       "      <td>86.300000</td>\n",
       "      <td>1.000000</td>\n",
       "      <td>4.000000</td>\n",
       "      <td>11.000000</td>\n",
       "      <td>3.000000</td>\n",
       "    </tr>\n",
       "  </tbody>\n",
       "</table>\n",
       "</div>"
      ],
      "text/plain": [
       "             label          Age     Language          Sex      Marital  \\\n",
       "count  8707.000000  8707.000000  8707.000000  8707.000000  8707.000000   \n",
       "mean      0.923050    37.690479     1.147468     1.622488     4.540829   \n",
       "std       0.266527    10.750031     0.354592     0.484792     1.053161   \n",
       "min       0.000000    19.000000     1.000000     1.000000     1.000000   \n",
       "25%       1.000000    29.000000     1.000000     1.000000     4.000000   \n",
       "50%       1.000000    36.000000     1.000000     2.000000     4.000000   \n",
       "75%       1.000000    44.000000     1.000000     2.000000     5.000000   \n",
       "max       1.000000    79.000000     2.000000     2.000000     7.000000   \n",
       "\n",
       "        Has_Credit        Field  Month_of_birth  Day_of_birth       Region  \\\n",
       "count  8707.000000  8707.000000     8707.000000   8707.000000  8707.000000   \n",
       "mean      1.032043    10.485012        6.360859      1.462157    11.207190   \n",
       "std       0.176125     5.597442        3.405988      0.498594     3.020191   \n",
       "min       1.000000     0.000000        1.000000      1.000000     0.000000   \n",
       "25%       1.000000     6.000000        3.000000      1.000000    12.000000   \n",
       "50%       1.000000    13.000000        6.000000      1.000000    12.000000   \n",
       "75%       1.000000    14.000000        9.000000      2.000000    13.000000   \n",
       "max       2.000000    22.000000       12.000000      2.000000    14.000000   \n",
       "\n",
       "       Number_of_credits  Linked_cards  INPS_mln_sum  INPS_yes_no  \\\n",
       "count        8707.000000   8707.000000   8707.000000  8707.000000   \n",
       "mean            1.119789      1.100838      2.132932     0.957505   \n",
       "std             0.366915      0.315294      2.225331     0.201726   \n",
       "min             1.000000      0.000000      0.000000     0.000000   \n",
       "25%             1.000000      1.000000      1.000000     1.000000   \n",
       "50%             1.000000      1.000000      1.700000     1.000000   \n",
       "75%             1.000000      1.000000      2.800000     1.000000   \n",
       "max             5.000000      4.000000     86.300000     1.000000   \n",
       "\n",
       "       Score_level  Score_class  Changed_phone_number  \n",
       "count  8707.000000  8707.000000           8707.000000  \n",
       "mean      0.547491     1.082807              0.112094  \n",
       "std       1.190702     2.447644              0.344394  \n",
       "min       0.000000     0.000000              0.000000  \n",
       "25%       0.000000     0.000000              0.000000  \n",
       "50%       0.000000     0.000000              0.000000  \n",
       "75%       0.000000     0.000000              0.000000  \n",
       "max       4.000000    11.000000              3.000000  "
      ]
     },
     "execution_count": 4,
     "metadata": {},
     "output_type": "execute_result"
    }
   ],
   "source": [
    "data.describe()"
   ]
  },
  {
   "cell_type": "code",
   "execution_count": 5,
   "id": "bee9eaa0-1bfe-4df1-a9af-45ae15bf9ea4",
   "metadata": {},
   "outputs": [
    {
     "data": {
      "text/plain": [
       "(8707, 18)"
      ]
     },
     "execution_count": 5,
     "metadata": {},
     "output_type": "execute_result"
    }
   ],
   "source": [
    "data.shape"
   ]
  },
  {
   "cell_type": "code",
   "execution_count": 6,
   "id": "e06da455-2cac-4c05-955c-1c0aabc41e9f",
   "metadata": {},
   "outputs": [
    {
     "data": {
      "text/plain": [
       "label                   0\n",
       "Age                     0\n",
       "Language                0\n",
       "Sex                     0\n",
       "Marital                 0\n",
       "Has_Credit              0\n",
       "Field                   0\n",
       "Month_of_birth          0\n",
       "Day_of_birth            0\n",
       "Region                  0\n",
       "Number_of_credits       0\n",
       "Linked_cards            0\n",
       "INPS_mln_sum            0\n",
       "INPS_yes_no             0\n",
       "Score_level             0\n",
       "Score_class             0\n",
       "Score_point             0\n",
       "Changed_phone_number    0\n",
       "dtype: int64"
      ]
     },
     "execution_count": 6,
     "metadata": {},
     "output_type": "execute_result"
    }
   ],
   "source": [
    "data.isnull().sum()"
   ]
  },
  {
   "cell_type": "code",
   "execution_count": 7,
   "id": "485c4f41-ddb9-4f34-b9aa-9142c1c322e2",
   "metadata": {},
   "outputs": [
    {
     "name": "stdout",
     "output_type": "stream",
     "text": [
      "<class 'pandas.core.frame.DataFrame'>\n",
      "RangeIndex: 8707 entries, 0 to 8706\n",
      "Data columns (total 18 columns):\n",
      " #   Column                Non-Null Count  Dtype  \n",
      "---  ------                --------------  -----  \n",
      " 0   label                 8707 non-null   int64  \n",
      " 1   Age                   8707 non-null   int64  \n",
      " 2   Language              8707 non-null   int64  \n",
      " 3   Sex                   8707 non-null   int64  \n",
      " 4   Marital               8707 non-null   int64  \n",
      " 5   Has_Credit            8707 non-null   int64  \n",
      " 6   Field                 8707 non-null   int64  \n",
      " 7   Month_of_birth        8707 non-null   int64  \n",
      " 8   Day_of_birth          8707 non-null   int64  \n",
      " 9   Region                8707 non-null   int64  \n",
      " 10  Number_of_credits     8707 non-null   int64  \n",
      " 11  Linked_cards          8707 non-null   int64  \n",
      " 12  INPS_mln_sum          8707 non-null   float64\n",
      " 13  INPS_yes_no           8707 non-null   int64  \n",
      " 14  Score_level           8707 non-null   int64  \n",
      " 15  Score_class           8707 non-null   int64  \n",
      " 16  Score_point           8707 non-null   object \n",
      " 17  Changed_phone_number  8707 non-null   int64  \n",
      "dtypes: float64(1), int64(16), object(1)\n",
      "memory usage: 1.2+ MB\n"
     ]
    }
   ],
   "source": [
    "data.info()"
   ]
  },
  {
   "cell_type": "code",
   "execution_count": 8,
   "id": "a8807b17-a03a-4b73-8cc8-5b9c64787ad4",
   "metadata": {},
   "outputs": [
    {
     "data": {
      "text/plain": [
       "0         -\n",
       "1         -\n",
       "2         -\n",
       "3         -\n",
       "4         -\n",
       "       ... \n",
       "8702      0\n",
       "8703      0\n",
       "8704      0\n",
       "8705    237\n",
       "8706    263\n",
       "Name: Score_point, Length: 8707, dtype: object"
      ]
     },
     "execution_count": 8,
     "metadata": {},
     "output_type": "execute_result"
    }
   ],
   "source": [
    "data['Score_point'] # this colums has some objects "
   ]
  },
  {
   "cell_type": "code",
   "execution_count": 9,
   "id": "917def82-ac62-4fd5-8821-3326d8facdf9",
   "metadata": {},
   "outputs": [],
   "source": [
    "df = data "
   ]
  },
  {
   "cell_type": "code",
   "execution_count": 10,
   "id": "34d22749-1c17-4937-a951-bfc5866c326a",
   "metadata": {},
   "outputs": [],
   "source": [
    "df = df.replace({'-':0}) # replacing the object to 0 score"
   ]
  },
  {
   "cell_type": "code",
   "execution_count": 11,
   "id": "1c93b969-afc3-40f7-a39d-50c45ce7e11f",
   "metadata": {},
   "outputs": [
    {
     "data": {
      "text/plain": [
       "0         0\n",
       "1         0\n",
       "2         0\n",
       "3         0\n",
       "4         0\n",
       "       ... \n",
       "8702      0\n",
       "8703      0\n",
       "8704      0\n",
       "8705    237\n",
       "8706    263\n",
       "Name: Score_point, Length: 8707, dtype: object"
      ]
     },
     "execution_count": 11,
     "metadata": {},
     "output_type": "execute_result"
    }
   ],
   "source": [
    "df['Score_point']"
   ]
  },
  {
   "cell_type": "code",
   "execution_count": 12,
   "id": "102c2187-2a45-412a-9fef-ccbce6446fed",
   "metadata": {},
   "outputs": [],
   "source": [
    "# converting object and other data types to interger \n",
    "\n",
    "columns = df.columns\n",
    "\n",
    "for c in list(columns):\n",
    "    df[c] = df[c].astype('int64')"
   ]
  },
  {
   "cell_type": "code",
   "execution_count": 13,
   "id": "3413573d-0ce9-42fb-956d-a4975178077f",
   "metadata": {},
   "outputs": [
    {
     "name": "stdout",
     "output_type": "stream",
     "text": [
      "<class 'pandas.core.frame.DataFrame'>\n",
      "RangeIndex: 8707 entries, 0 to 8706\n",
      "Data columns (total 18 columns):\n",
      " #   Column                Non-Null Count  Dtype\n",
      "---  ------                --------------  -----\n",
      " 0   label                 8707 non-null   int64\n",
      " 1   Age                   8707 non-null   int64\n",
      " 2   Language              8707 non-null   int64\n",
      " 3   Sex                   8707 non-null   int64\n",
      " 4   Marital               8707 non-null   int64\n",
      " 5   Has_Credit            8707 non-null   int64\n",
      " 6   Field                 8707 non-null   int64\n",
      " 7   Month_of_birth        8707 non-null   int64\n",
      " 8   Day_of_birth          8707 non-null   int64\n",
      " 9   Region                8707 non-null   int64\n",
      " 10  Number_of_credits     8707 non-null   int64\n",
      " 11  Linked_cards          8707 non-null   int64\n",
      " 12  INPS_mln_sum          8707 non-null   int64\n",
      " 13  INPS_yes_no           8707 non-null   int64\n",
      " 14  Score_level           8707 non-null   int64\n",
      " 15  Score_class           8707 non-null   int64\n",
      " 16  Score_point           8707 non-null   int64\n",
      " 17  Changed_phone_number  8707 non-null   int64\n",
      "dtypes: int64(18)\n",
      "memory usage: 1.2 MB\n"
     ]
    }
   ],
   "source": [
    "df.info() # now we have only integer data type "
   ]
  },
  {
   "cell_type": "code",
   "execution_count": 14,
   "id": "71558769-1f06-45ef-ac65-1819478e6ffa",
   "metadata": {},
   "outputs": [
    {
     "data": {
      "text/html": [
       "<div>\n",
       "<style scoped>\n",
       "    .dataframe tbody tr th:only-of-type {\n",
       "        vertical-align: middle;\n",
       "    }\n",
       "\n",
       "    .dataframe tbody tr th {\n",
       "        vertical-align: top;\n",
       "    }\n",
       "\n",
       "    .dataframe thead th {\n",
       "        text-align: right;\n",
       "    }\n",
       "</style>\n",
       "<table border=\"1\" class=\"dataframe\">\n",
       "  <thead>\n",
       "    <tr style=\"text-align: right;\">\n",
       "      <th></th>\n",
       "      <th>label</th>\n",
       "      <th>Age</th>\n",
       "      <th>Language</th>\n",
       "      <th>Sex</th>\n",
       "      <th>Marital</th>\n",
       "      <th>Has_Credit</th>\n",
       "      <th>Field</th>\n",
       "      <th>Month_of_birth</th>\n",
       "      <th>Day_of_birth</th>\n",
       "      <th>Region</th>\n",
       "      <th>Number_of_credits</th>\n",
       "      <th>Linked_cards</th>\n",
       "      <th>INPS_mln_sum</th>\n",
       "      <th>INPS_yes_no</th>\n",
       "      <th>Score_level</th>\n",
       "      <th>Score_class</th>\n",
       "      <th>Score_point</th>\n",
       "      <th>Changed_phone_number</th>\n",
       "    </tr>\n",
       "  </thead>\n",
       "  <tbody>\n",
       "    <tr>\n",
       "      <th>0</th>\n",
       "      <td>0</td>\n",
       "      <td>34</td>\n",
       "      <td>1</td>\n",
       "      <td>2</td>\n",
       "      <td>6</td>\n",
       "      <td>2</td>\n",
       "      <td>13</td>\n",
       "      <td>12</td>\n",
       "      <td>1</td>\n",
       "      <td>12</td>\n",
       "      <td>1</td>\n",
       "      <td>0</td>\n",
       "      <td>0</td>\n",
       "      <td>0</td>\n",
       "      <td>0</td>\n",
       "      <td>0</td>\n",
       "      <td>0</td>\n",
       "      <td>1</td>\n",
       "    </tr>\n",
       "    <tr>\n",
       "      <th>1</th>\n",
       "      <td>0</td>\n",
       "      <td>38</td>\n",
       "      <td>1</td>\n",
       "      <td>1</td>\n",
       "      <td>5</td>\n",
       "      <td>1</td>\n",
       "      <td>10</td>\n",
       "      <td>7</td>\n",
       "      <td>1</td>\n",
       "      <td>13</td>\n",
       "      <td>1</td>\n",
       "      <td>2</td>\n",
       "      <td>0</td>\n",
       "      <td>0</td>\n",
       "      <td>0</td>\n",
       "      <td>0</td>\n",
       "      <td>0</td>\n",
       "      <td>1</td>\n",
       "    </tr>\n",
       "    <tr>\n",
       "      <th>2</th>\n",
       "      <td>0</td>\n",
       "      <td>35</td>\n",
       "      <td>1</td>\n",
       "      <td>2</td>\n",
       "      <td>4</td>\n",
       "      <td>2</td>\n",
       "      <td>9</td>\n",
       "      <td>8</td>\n",
       "      <td>1</td>\n",
       "      <td>13</td>\n",
       "      <td>4</td>\n",
       "      <td>1</td>\n",
       "      <td>1</td>\n",
       "      <td>1</td>\n",
       "      <td>0</td>\n",
       "      <td>0</td>\n",
       "      <td>0</td>\n",
       "      <td>1</td>\n",
       "    </tr>\n",
       "    <tr>\n",
       "      <th>3</th>\n",
       "      <td>0</td>\n",
       "      <td>27</td>\n",
       "      <td>1</td>\n",
       "      <td>1</td>\n",
       "      <td>5</td>\n",
       "      <td>2</td>\n",
       "      <td>13</td>\n",
       "      <td>7</td>\n",
       "      <td>1</td>\n",
       "      <td>12</td>\n",
       "      <td>1</td>\n",
       "      <td>2</td>\n",
       "      <td>1</td>\n",
       "      <td>0</td>\n",
       "      <td>0</td>\n",
       "      <td>0</td>\n",
       "      <td>0</td>\n",
       "      <td>1</td>\n",
       "    </tr>\n",
       "    <tr>\n",
       "      <th>4</th>\n",
       "      <td>0</td>\n",
       "      <td>32</td>\n",
       "      <td>1</td>\n",
       "      <td>2</td>\n",
       "      <td>4</td>\n",
       "      <td>2</td>\n",
       "      <td>10</td>\n",
       "      <td>7</td>\n",
       "      <td>1</td>\n",
       "      <td>13</td>\n",
       "      <td>3</td>\n",
       "      <td>1</td>\n",
       "      <td>2</td>\n",
       "      <td>1</td>\n",
       "      <td>0</td>\n",
       "      <td>0</td>\n",
       "      <td>0</td>\n",
       "      <td>1</td>\n",
       "    </tr>\n",
       "  </tbody>\n",
       "</table>\n",
       "</div>"
      ],
      "text/plain": [
       "   label  Age  Language  Sex  Marital  Has_Credit  Field  Month_of_birth  \\\n",
       "0      0   34         1    2        6           2     13              12   \n",
       "1      0   38         1    1        5           1     10               7   \n",
       "2      0   35         1    2        4           2      9               8   \n",
       "3      0   27         1    1        5           2     13               7   \n",
       "4      0   32         1    2        4           2     10               7   \n",
       "\n",
       "   Day_of_birth  Region  Number_of_credits  Linked_cards  INPS_mln_sum  \\\n",
       "0             1      12                  1             0             0   \n",
       "1             1      13                  1             2             0   \n",
       "2             1      13                  4             1             1   \n",
       "3             1      12                  1             2             1   \n",
       "4             1      13                  3             1             2   \n",
       "\n",
       "   INPS_yes_no  Score_level  Score_class  Score_point  Changed_phone_number  \n",
       "0            0            0            0            0                     1  \n",
       "1            0            0            0            0                     1  \n",
       "2            1            0            0            0                     1  \n",
       "3            0            0            0            0                     1  \n",
       "4            1            0            0            0                     1  "
      ]
     },
     "execution_count": 14,
     "metadata": {},
     "output_type": "execute_result"
    }
   ],
   "source": [
    "df.head()"
   ]
  },
  {
   "cell_type": "code",
   "execution_count": 15,
   "id": "8ede12aa-cbab-44fb-9e63-18b955e6ba79",
   "metadata": {},
   "outputs": [
    {
     "data": {
      "text/plain": [
       "<AxesSubplot:>"
      ]
     },
     "execution_count": 15,
     "metadata": {},
     "output_type": "execute_result"
    },
    {
     "data": {
      "image/png": "[encoded data removed]",
      "text/plain": [
       "<Figure size 720x504 with 2 Axes>"
      ]
     },
     "metadata": {
      "needs_background": "light"
     },
     "output_type": "display_data"
    }
   ],
   "source": [
    "# checking for correlation of the columns \n",
    "\n",
    "plt.subplots(figsize=(10,7))\n",
    "sns.heatmap(df.corr())"
   ]
  },
  {
   "cell_type": "code",
   "execution_count": 16,
   "id": "87b28d9a-7493-4c18-995f-2d1d66410b0f",
   "metadata": {},
   "outputs": [
    {
     "data": {
      "text/plain": [
       "label                   1.429268\n",
       "Age                     1.266242\n",
       "Language                1.041155\n",
       "Sex                     0.128589\n",
       "Marital                 0.278478\n",
       "Has_Credit              0.779486\n",
       "Field                   1.417309\n",
       "Month_of_birth          0.989667\n",
       "Day_of_birth            1.233809\n",
       "Region                  0.860708\n",
       "Number_of_credits       1.033353\n",
       "Linked_cards            1.094647\n",
       "INPS_mln_sum            1.145105\n",
       "INPS_yes_no             1.124635\n",
       "Score_level             2.811352\n",
       "Score_class             2.702185\n",
       "Score_point             2.829367\n",
       "Changed_phone_number   -0.771510\n",
       "dtype: float64"
      ]
     },
     "execution_count": 16,
     "metadata": {},
     "output_type": "execute_result"
    }
   ],
   "source": [
    "df.corr().sum()"
   ]
  },
  {
   "cell_type": "code",
   "execution_count": 17,
   "id": "17e43a62-f731-4a5c-9b95-d86c9d539b75",
   "metadata": {},
   "outputs": [
    {
     "name": "stdout",
     "output_type": "stream",
     "text": [
      "label\n",
      "0     670\n",
      "1    8037\n",
      "dtype: int64\n"
     ]
    }
   ],
   "source": [
    "counting_0_1 = df.pivot_table(columns=['label'], aggfunc='size')\n",
    "print(counting_0_1)"
   ]
  },
  {
   "cell_type": "code",
   "execution_count": 18,
   "id": "d49f9f38-0c2a-400f-97f5-31c7c3169c48",
   "metadata": {},
   "outputs": [],
   "source": [
    "y = df['label']\n",
    "X = df.drop(['label'], axis=1, inplace=False)"
   ]
  },
  {
   "cell_type": "markdown",
   "id": "4a03c7f9-b084-44a4-a365-8ff19b04f700",
   "metadata": {},
   "source": [
    "### as we have unbalanced data so we gonna balance it"
   ]
  },
  {
   "cell_type": "code",
   "execution_count": 19,
   "id": "8b550cca-beb4-4718-8cee-c0bb2889fe77",
   "metadata": {},
   "outputs": [],
   "source": [
    "from imblearn.over_sampling import RandomOverSampler\n",
    "from imblearn.under_sampling import RandomUnderSampler \n",
    "from collections import Counter "
   ]
  },
  {
   "cell_type": "code",
   "execution_count": 20,
   "id": "fae57d2a-f3c9-482e-8b8f-7669aeab573f",
   "metadata": {},
   "outputs": [
    {
     "name": "stdout",
     "output_type": "stream",
     "text": [
      "Counter({0: 8037, 1: 8037})\n"
     ]
    }
   ],
   "source": [
    "# instantiating the random over sampLer \n",
    "ros = RandomOverSampler()\n",
    " # resampLing X, y x_ros, y_\n",
    "X_ros, y_ros = ros.fit_resample(X, y) \n",
    "# new class distribution\n",
    "print(Counter(y_ros)) "
   ]
  },
  {
   "cell_type": "code",
   "execution_count": null,
   "id": "23c81504-c3b2-4de9-8914-006c09767080",
   "metadata": {},
   "outputs": [],
   "source": []
  },
  {
   "cell_type": "markdown",
   "id": "af0e85cd-6494-4300-aed5-7fec94678d70",
   "metadata": {},
   "source": [
    "## Splitting data to train and test"
   ]
  },
  {
   "cell_type": "code",
   "execution_count": 22,
   "id": "6deb9736",
   "metadata": {},
   "outputs": [],
   "source": [
    "from sklearn.model_selection import train_test_split"
   ]
  },
  {
   "cell_type": "code",
   "execution_count": 23,
   "id": "665bf982-0995-4f2f-83b3-ee978b5cd617",
   "metadata": {},
   "outputs": [],
   "source": [
    "X_train, X_test, y_train, y_test = train_test_split(X_ros,y_ros, test_size = 0.30, random_state = 101)"
   ]
  },
  {
   "cell_type": "code",
   "execution_count": 24,
   "id": "76e466c4-bb41-4bdc-b581-b0d371aff205",
   "metadata": {},
   "outputs": [
    {
     "name": "stdout",
     "output_type": "stream",
     "text": [
      "(11251, 17) (4823, 17)\n"
     ]
    }
   ],
   "source": [
    "print(X_train.shape, X_test.shape)"
   ]
  },
  {
   "cell_type": "code",
   "execution_count": 25,
   "id": "353aff0f-e95a-4640-a125-28a9da6395ac",
   "metadata": {},
   "outputs": [
    {
     "name": "stdout",
     "output_type": "stream",
     "text": [
      "(11251,) (4823,)\n"
     ]
    }
   ],
   "source": [
    "print(y_train.shape, y_test.shape)"
   ]
  },
  {
   "cell_type": "markdown",
   "id": "28bc50e6-0b8f-4afe-bca9-983ac452bf53",
   "metadata": {},
   "source": [
    "# Training Data in diffirent classification Models"
   ]
  },
  {
   "cell_type": "markdown",
   "id": "a55d2869",
   "metadata": {},
   "source": [
    "## SVM Classification"
   ]
  },
  {
   "cell_type": "code",
   "execution_count": 74,
   "id": "70d2f37d-ecb2-4fe7-9c62-c2f168e4ec7b",
   "metadata": {},
   "outputs": [
    {
     "name": "stdout",
     "output_type": "stream",
     "text": [
      "0.931\n",
      "[[2396    0]\n",
      " [   6 2421]]\n",
      "              precision    recall  f1-score   support\n",
      "\n",
      "           0       1.00      1.00      1.00      2396\n",
      "           1       1.00      1.00      1.00      2427\n",
      "\n",
      "    accuracy                           1.00      4823\n",
      "   macro avg       1.00      1.00      1.00      4823\n",
      "weighted avg       1.00      1.00      1.00      4823\n",
      "\n"
     ]
    }
   ],
   "source": [
    "from sklearn.svm import SVC\n",
    "from sklearn.metrics import accuracy_score\n",
    "\n",
    "model = SVC()\n",
    "model.fit(X_train,y_train)\n",
    "svm_pred = model.predict(X_test)\n",
    "\n",
    "# Evaluating Model\n",
    "print(accuracy_score(y_test, svm_pred).round(3))\n",
    "print(confusion_matrix(y_test, Dectree_pred))\n",
    "print(classification_report(y_test, Dectree_pred))\n"
   ]
  },
  {
   "cell_type": "markdown",
   "id": "ca501fe7",
   "metadata": {},
   "source": [
    "# Decision Tree Classification"
   ]
  },
  {
   "cell_type": "code",
   "execution_count": 61,
   "id": "bd381023",
   "metadata": {},
   "outputs": [
    {
     "name": "stdout",
     "output_type": "stream",
     "text": [
      "0.999\n",
      "[[2396    0]\n",
      " [   6 2421]]\n",
      "              precision    recall  f1-score   support\n",
      "\n",
      "           0       1.00      1.00      1.00      2396\n",
      "           1       1.00      1.00      1.00      2427\n",
      "\n",
      "    accuracy                           1.00      4823\n",
      "   macro avg       1.00      1.00      1.00      4823\n",
      "weighted avg       1.00      1.00      1.00      4823\n",
      "\n"
     ]
    }
   ],
   "source": [
    "from sklearn.tree import DecisionTreeClassifier\n",
    "from sklearn.metrics import classification_report,confusion_matrix \n",
    "\n",
    "regressor = DecisionTreeClassifier(random_state =0)\n",
    "regressor.fit(X_train,y_train)\n",
    "Dectree_pred = regressor.predict(X_test)\n",
    "\n",
    "# Evaluating Model\n",
    "print(accuracy_score(y_test, Dectree_pred).round(3))\n",
    "print(confusion_matrix(y_test, Dectree_pred))\n",
    "print(classification_report(y_test, Dectree_pred))\n",
    "\n"
   ]
  },
  {
   "cell_type": "markdown",
   "id": "b9dbf9e8",
   "metadata": {},
   "source": [
    "## KNearestNeighbor"
   ]
  },
  {
   "cell_type": "code",
   "execution_count": 62,
   "id": "2e8b7d59",
   "metadata": {},
   "outputs": [
    {
     "data": {
      "text/plain": [
       "(4823, 17)"
      ]
     },
     "execution_count": 62,
     "metadata": {},
     "output_type": "execute_result"
    }
   ],
   "source": [
    "# for this model we need scale this dataset to increase accuracy \n",
    "from sklearn.preprocessing import StandardScaler\n",
    "sc = StandardScaler()\n",
    "sc.fit(X_train)\n",
    "X_trainKnn = sc.transform(X_train)\n",
    "X_testKnn = sc.transform(X_test)"
   ]
  },
  {
   "cell_type": "code",
   "execution_count": 65,
   "id": "12cf1043",
   "metadata": {},
   "outputs": [
    {
     "name": "stdout",
     "output_type": "stream",
     "text": [
      "0.995\n",
      "[[2396    0]\n",
      " [  22 2405]]\n",
      "              precision    recall  f1-score   support\n",
      "\n",
      "           0       0.99      1.00      1.00      2396\n",
      "           1       1.00      0.99      1.00      2427\n",
      "\n",
      "    accuracy                           1.00      4823\n",
      "   macro avg       1.00      1.00      1.00      4823\n",
      "weighted avg       1.00      1.00      1.00      4823\n",
      "\n"
     ]
    }
   ],
   "source": [
    "from sklearn.neighbors import KNeighborsClassifier\n",
    "\n",
    "knn = KNeighborsClassifier(n_neighbors=1)\n",
    "knn.fit(X_trainKnn, y_train)\n",
    "knn_pred = knn.predict(X_testKnn)\n",
    "\n",
    "# Evaluating Model\n",
    "print(accuracy_score(y_test, knn_pred).round(3))\n",
    "print(confusion_matrix(y_test, knn_pred))\n",
    "print(classification_report(y_test, knn_pred))\n"
   ]
  },
  {
   "cell_type": "markdown",
   "id": "e9e0c2a3",
   "metadata": {},
   "source": [
    "## GradientBooster"
   ]
  },
  {
   "cell_type": "code",
   "execution_count": 66,
   "id": "56e5a025",
   "metadata": {},
   "outputs": [
    {
     "name": "stdout",
     "output_type": "stream",
     "text": [
      "0.999\n",
      "[[2396    0]\n",
      " [   5 2422]]\n",
      "              precision    recall  f1-score   support\n",
      "\n",
      "           0       1.00      1.00      1.00      2396\n",
      "           1       1.00      1.00      1.00      2427\n",
      "\n",
      "    accuracy                           1.00      4823\n",
      "   macro avg       1.00      1.00      1.00      4823\n",
      "weighted avg       1.00      1.00      1.00      4823\n",
      "\n"
     ]
    }
   ],
   "source": [
    "from sklearn.ensemble import GradientBoostingClassifier\n",
    "gb = GradientBoostingClassifier()\n",
    "gb.fit(X_train, y_train)\n",
    "gb_pred = gb.predict(X_test)\n",
    "\n",
    "print(accuracy_score(y_test, gb_pred).round(3))\n",
    "print(confusion_matrix(y_test, gb_pred))\n",
    "print(classification_report(y_test, gb_pred))\n"
   ]
  },
  {
   "cell_type": "markdown",
   "id": "8e95aa2b",
   "metadata": {},
   "source": [
    "  ##  Note\n",
    "   All of our model are working perfect almost near to 100%. But We choose perfect one after testing data to all of them"
   ]
  },
  {
   "cell_type": "markdown",
   "id": "6141b40f-48dc-4ea4-a7dd-0dfdb6ffe00d",
   "metadata": {},
   "source": [
    "# Predicting new Testing Data "
   ]
  },
  {
   "cell_type": "code",
   "execution_count": 67,
   "id": "bd703417-8cc7-46bf-b621-070b06c0417a",
   "metadata": {},
   "outputs": [],
   "source": [
    "df2 = pd.read_csv('data_test.csv')"
   ]
  },
  {
   "cell_type": "code",
   "execution_count": 68,
   "id": "7212853e-612f-48a3-bccd-bf80fb251862",
   "metadata": {},
   "outputs": [
    {
     "data": {
      "text/html": [
       "<div>\n",
       "<style scoped>\n",
       "    .dataframe tbody tr th:only-of-type {\n",
       "        vertical-align: middle;\n",
       "    }\n",
       "\n",
       "    .dataframe tbody tr th {\n",
       "        vertical-align: top;\n",
       "    }\n",
       "\n",
       "    .dataframe thead th {\n",
       "        text-align: right;\n",
       "    }\n",
       "</style>\n",
       "<table border=\"1\" class=\"dataframe\">\n",
       "  <thead>\n",
       "    <tr style=\"text-align: right;\">\n",
       "      <th></th>\n",
       "      <th>label</th>\n",
       "      <th>Age</th>\n",
       "      <th>Language</th>\n",
       "      <th>Sex</th>\n",
       "      <th>Marital</th>\n",
       "      <th>Has_Credit</th>\n",
       "      <th>Field</th>\n",
       "      <th>Month_of_birth</th>\n",
       "      <th>Day_of_birth</th>\n",
       "      <th>Region</th>\n",
       "      <th>Number_of_credits</th>\n",
       "      <th>Linked_cards</th>\n",
       "      <th>INPS_mln_sum</th>\n",
       "      <th>INPS_yes_no</th>\n",
       "      <th>Score_level</th>\n",
       "      <th>Score_class</th>\n",
       "      <th>Score_point</th>\n",
       "      <th>Changed_phone_number</th>\n",
       "    </tr>\n",
       "  </thead>\n",
       "  <tbody>\n",
       "    <tr>\n",
       "      <th>0</th>\n",
       "      <td>0</td>\n",
       "      <td>40</td>\n",
       "      <td>1</td>\n",
       "      <td>2</td>\n",
       "      <td>4</td>\n",
       "      <td>1</td>\n",
       "      <td>0</td>\n",
       "      <td>3</td>\n",
       "      <td>1</td>\n",
       "      <td>12</td>\n",
       "      <td>2</td>\n",
       "      <td>1</td>\n",
       "      <td>2.4</td>\n",
       "      <td>1</td>\n",
       "      <td>0</td>\n",
       "      <td>0</td>\n",
       "      <td>-</td>\n",
       "      <td>1</td>\n",
       "    </tr>\n",
       "    <tr>\n",
       "      <th>1</th>\n",
       "      <td>0</td>\n",
       "      <td>36</td>\n",
       "      <td>2</td>\n",
       "      <td>2</td>\n",
       "      <td>4</td>\n",
       "      <td>1</td>\n",
       "      <td>0</td>\n",
       "      <td>5</td>\n",
       "      <td>1</td>\n",
       "      <td>13</td>\n",
       "      <td>1</td>\n",
       "      <td>2</td>\n",
       "      <td>0.0</td>\n",
       "      <td>1</td>\n",
       "      <td>0</td>\n",
       "      <td>0</td>\n",
       "      <td>-</td>\n",
       "      <td>1</td>\n",
       "    </tr>\n",
       "    <tr>\n",
       "      <th>2</th>\n",
       "      <td>0</td>\n",
       "      <td>31</td>\n",
       "      <td>1</td>\n",
       "      <td>2</td>\n",
       "      <td>4</td>\n",
       "      <td>1</td>\n",
       "      <td>0</td>\n",
       "      <td>7</td>\n",
       "      <td>1</td>\n",
       "      <td>13</td>\n",
       "      <td>1</td>\n",
       "      <td>1</td>\n",
       "      <td>0.3</td>\n",
       "      <td>0</td>\n",
       "      <td>0</td>\n",
       "      <td>0</td>\n",
       "      <td>-</td>\n",
       "      <td>2</td>\n",
       "    </tr>\n",
       "    <tr>\n",
       "      <th>3</th>\n",
       "      <td>0</td>\n",
       "      <td>29</td>\n",
       "      <td>1</td>\n",
       "      <td>2</td>\n",
       "      <td>4</td>\n",
       "      <td>1</td>\n",
       "      <td>0</td>\n",
       "      <td>1</td>\n",
       "      <td>1</td>\n",
       "      <td>13</td>\n",
       "      <td>1</td>\n",
       "      <td>1</td>\n",
       "      <td>0.9</td>\n",
       "      <td>1</td>\n",
       "      <td>0</td>\n",
       "      <td>0</td>\n",
       "      <td>-</td>\n",
       "      <td>1</td>\n",
       "    </tr>\n",
       "    <tr>\n",
       "      <th>4</th>\n",
       "      <td>0</td>\n",
       "      <td>38</td>\n",
       "      <td>1</td>\n",
       "      <td>2</td>\n",
       "      <td>4</td>\n",
       "      <td>1</td>\n",
       "      <td>0</td>\n",
       "      <td>10</td>\n",
       "      <td>1</td>\n",
       "      <td>13</td>\n",
       "      <td>1</td>\n",
       "      <td>2</td>\n",
       "      <td>4.3</td>\n",
       "      <td>0</td>\n",
       "      <td>4</td>\n",
       "      <td>2</td>\n",
       "      <td>318</td>\n",
       "      <td>1</td>\n",
       "    </tr>\n",
       "  </tbody>\n",
       "</table>\n",
       "</div>"
      ],
      "text/plain": [
       "   label  Age  Language  Sex  Marital  Has_Credit  Field  Month_of_birth  \\\n",
       "0      0   40         1    2        4           1      0               3   \n",
       "1      0   36         2    2        4           1      0               5   \n",
       "2      0   31         1    2        4           1      0               7   \n",
       "3      0   29         1    2        4           1      0               1   \n",
       "4      0   38         1    2        4           1      0              10   \n",
       "\n",
       "   Day_of_birth  Region  Number_of_credits  Linked_cards  INPS_mln_sum  \\\n",
       "0             1      12                  2             1           2.4   \n",
       "1             1      13                  1             2           0.0   \n",
       "2             1      13                  1             1           0.3   \n",
       "3             1      13                  1             1           0.9   \n",
       "4             1      13                  1             2           4.3   \n",
       "\n",
       "   INPS_yes_no  Score_level  Score_class Score_point  Changed_phone_number  \n",
       "0            1            0            0           -                     1  \n",
       "1            1            0            0           -                     1  \n",
       "2            0            0            0           -                     2  \n",
       "3            1            0            0           -                     1  \n",
       "4            0            4            2         318                     1  "
      ]
     },
     "execution_count": 68,
     "metadata": {},
     "output_type": "execute_result"
    }
   ],
   "source": [
    "df2.head()"
   ]
  },
  {
   "cell_type": "code",
   "execution_count": 69,
   "id": "2e796691-2f66-4554-824f-f0311163b420",
   "metadata": {},
   "outputs": [],
   "source": [
    "df2 = df2.replace({'-':0})"
   ]
  },
  {
   "cell_type": "code",
   "execution_count": 72,
   "id": "18e083c0-15fd-4c54-a6c3-17f7c7495735",
   "metadata": {},
   "outputs": [
    {
     "data": {
      "text/plain": [
       "0      0\n",
       "1      0\n",
       "2      0\n",
       "3      0\n",
       "4    318\n",
       "Name: Score_point, dtype: object"
      ]
     },
     "execution_count": 72,
     "metadata": {},
     "output_type": "execute_result"
    }
   ],
   "source": [
    "df2['Score_point'].head()"
   ]
  },
  {
   "cell_type": "code",
   "execution_count": 70,
   "id": "0b18c481-943e-43e1-b210-6a5d48986779",
   "metadata": {},
   "outputs": [],
   "source": [
    "New_Y = df2['label']\n",
    "New_X = df2.drop(['label'], axis=1, inplace=False)"
   ]
  },
  {
   "cell_type": "code",
   "execution_count": 73,
   "id": "080d5b2e-b6e9-464f-ae86-91c299c1c753",
   "metadata": {},
   "outputs": [
    {
     "data": {
      "text/html": [
       "<div>\n",
       "<style scoped>\n",
       "    .dataframe tbody tr th:only-of-type {\n",
       "        vertical-align: middle;\n",
       "    }\n",
       "\n",
       "    .dataframe tbody tr th {\n",
       "        vertical-align: top;\n",
       "    }\n",
       "\n",
       "    .dataframe thead th {\n",
       "        text-align: right;\n",
       "    }\n",
       "</style>\n",
       "<table border=\"1\" class=\"dataframe\">\n",
       "  <thead>\n",
       "    <tr style=\"text-align: right;\">\n",
       "      <th></th>\n",
       "      <th>Age</th>\n",
       "      <th>Language</th>\n",
       "      <th>Sex</th>\n",
       "      <th>Marital</th>\n",
       "      <th>Has_Credit</th>\n",
       "      <th>Field</th>\n",
       "      <th>Month_of_birth</th>\n",
       "      <th>Day_of_birth</th>\n",
       "      <th>Region</th>\n",
       "      <th>Number_of_credits</th>\n",
       "      <th>Linked_cards</th>\n",
       "      <th>INPS_mln_sum</th>\n",
       "      <th>INPS_yes_no</th>\n",
       "      <th>Score_level</th>\n",
       "      <th>Score_class</th>\n",
       "      <th>Score_point</th>\n",
       "      <th>Changed_phone_number</th>\n",
       "    </tr>\n",
       "  </thead>\n",
       "  <tbody>\n",
       "    <tr>\n",
       "      <th>0</th>\n",
       "      <td>40</td>\n",
       "      <td>1</td>\n",
       "      <td>2</td>\n",
       "      <td>4</td>\n",
       "      <td>1</td>\n",
       "      <td>0</td>\n",
       "      <td>3</td>\n",
       "      <td>1</td>\n",
       "      <td>12</td>\n",
       "      <td>2</td>\n",
       "      <td>1</td>\n",
       "      <td>2.4</td>\n",
       "      <td>1</td>\n",
       "      <td>0</td>\n",
       "      <td>0</td>\n",
       "      <td>0</td>\n",
       "      <td>1</td>\n",
       "    </tr>\n",
       "    <tr>\n",
       "      <th>1</th>\n",
       "      <td>36</td>\n",
       "      <td>2</td>\n",
       "      <td>2</td>\n",
       "      <td>4</td>\n",
       "      <td>1</td>\n",
       "      <td>0</td>\n",
       "      <td>5</td>\n",
       "      <td>1</td>\n",
       "      <td>13</td>\n",
       "      <td>1</td>\n",
       "      <td>2</td>\n",
       "      <td>0.0</td>\n",
       "      <td>1</td>\n",
       "      <td>0</td>\n",
       "      <td>0</td>\n",
       "      <td>0</td>\n",
       "      <td>1</td>\n",
       "    </tr>\n",
       "    <tr>\n",
       "      <th>2</th>\n",
       "      <td>31</td>\n",
       "      <td>1</td>\n",
       "      <td>2</td>\n",
       "      <td>4</td>\n",
       "      <td>1</td>\n",
       "      <td>0</td>\n",
       "      <td>7</td>\n",
       "      <td>1</td>\n",
       "      <td>13</td>\n",
       "      <td>1</td>\n",
       "      <td>1</td>\n",
       "      <td>0.3</td>\n",
       "      <td>0</td>\n",
       "      <td>0</td>\n",
       "      <td>0</td>\n",
       "      <td>0</td>\n",
       "      <td>2</td>\n",
       "    </tr>\n",
       "    <tr>\n",
       "      <th>3</th>\n",
       "      <td>29</td>\n",
       "      <td>1</td>\n",
       "      <td>2</td>\n",
       "      <td>4</td>\n",
       "      <td>1</td>\n",
       "      <td>0</td>\n",
       "      <td>1</td>\n",
       "      <td>1</td>\n",
       "      <td>13</td>\n",
       "      <td>1</td>\n",
       "      <td>1</td>\n",
       "      <td>0.9</td>\n",
       "      <td>1</td>\n",
       "      <td>0</td>\n",
       "      <td>0</td>\n",
       "      <td>0</td>\n",
       "      <td>1</td>\n",
       "    </tr>\n",
       "    <tr>\n",
       "      <th>4</th>\n",
       "      <td>38</td>\n",
       "      <td>1</td>\n",
       "      <td>2</td>\n",
       "      <td>4</td>\n",
       "      <td>1</td>\n",
       "      <td>0</td>\n",
       "      <td>10</td>\n",
       "      <td>1</td>\n",
       "      <td>13</td>\n",
       "      <td>1</td>\n",
       "      <td>2</td>\n",
       "      <td>4.3</td>\n",
       "      <td>0</td>\n",
       "      <td>4</td>\n",
       "      <td>2</td>\n",
       "      <td>318</td>\n",
       "      <td>1</td>\n",
       "    </tr>\n",
       "  </tbody>\n",
       "</table>\n",
       "</div>"
      ],
      "text/plain": [
       "   Age  Language  Sex  Marital  Has_Credit  Field  Month_of_birth  \\\n",
       "0   40         1    2        4           1      0               3   \n",
       "1   36         2    2        4           1      0               5   \n",
       "2   31         1    2        4           1      0               7   \n",
       "3   29         1    2        4           1      0               1   \n",
       "4   38         1    2        4           1      0              10   \n",
       "\n",
       "   Day_of_birth  Region  Number_of_credits  Linked_cards  INPS_mln_sum  \\\n",
       "0             1      12                  2             1           2.4   \n",
       "1             1      13                  1             2           0.0   \n",
       "2             1      13                  1             1           0.3   \n",
       "3             1      13                  1             1           0.9   \n",
       "4             1      13                  1             2           4.3   \n",
       "\n",
       "   INPS_yes_no  Score_level  Score_class Score_point  Changed_phone_number  \n",
       "0            1            0            0           0                     1  \n",
       "1            1            0            0           0                     1  \n",
       "2            0            0            0           0                     2  \n",
       "3            1            0            0           0                     1  \n",
       "4            0            4            2         318                     1  "
      ]
     },
     "execution_count": 73,
     "metadata": {},
     "output_type": "execute_result"
    }
   ],
   "source": [
    "New_X.head()"
   ]
  },
  {
   "cell_type": "markdown",
   "id": "4d42f8be",
   "metadata": {},
   "source": [
    "# Predicting new dataset with our Models"
   ]
  },
  {
   "cell_type": "markdown",
   "id": "720df2c2",
   "metadata": {},
   "source": [
    "### SVM"
   ]
  },
  {
   "cell_type": "code",
   "execution_count": 76,
   "id": "21d6cbba",
   "metadata": {},
   "outputs": [
    {
     "name": "stdout",
     "output_type": "stream",
     "text": [
      "0.896\n",
      "[[26  0]\n",
      " [ 5 17]]\n",
      "              precision    recall  f1-score   support\n",
      "\n",
      "           0       0.84      1.00      0.91        26\n",
      "           1       1.00      0.77      0.87        22\n",
      "\n",
      "    accuracy                           0.90        48\n",
      "   macro avg       0.92      0.89      0.89        48\n",
      "weighted avg       0.91      0.90      0.89        48\n",
      "\n"
     ]
    }
   ],
   "source": [
    "svm_new = model.predict(New_X)\n",
    "\n",
    "# Evaluating Prediction\n",
    "print(accuracy_score(New_Y, svm_new).round(3))\n",
    "print(confusion_matrix(New_Y, svm_new))\n",
    "print(classification_report(New_Y, svm_new))\n"
   ]
  },
  {
   "cell_type": "markdown",
   "id": "b9d74b6c",
   "metadata": {},
   "source": [
    "## Decision Tree"
   ]
  },
  {
   "cell_type": "code",
   "execution_count": 77,
   "id": "ff61da31",
   "metadata": {},
   "outputs": [
    {
     "name": "stdout",
     "output_type": "stream",
     "text": [
      "1.0\n",
      "[[26  0]\n",
      " [ 0 22]]\n",
      "              precision    recall  f1-score   support\n",
      "\n",
      "           0       1.00      1.00      1.00        26\n",
      "           1       1.00      1.00      1.00        22\n",
      "\n",
      "    accuracy                           1.00        48\n",
      "   macro avg       1.00      1.00      1.00        48\n",
      "weighted avg       1.00      1.00      1.00        48\n",
      "\n"
     ]
    }
   ],
   "source": [
    "Dectree_new = regressor.predict(New_X)\n",
    "\n",
    "# Evaluating Prediction\n",
    "print(accuracy_score(New_Y, Dectree_new).round(3))\n",
    "print(confusion_matrix(New_Y, Dectree_new))\n",
    "print(classification_report(New_Y, Dectree_new))"
   ]
  },
  {
   "cell_type": "markdown",
   "id": "41a7ca8c",
   "metadata": {},
   "source": [
    "## K-Nearest Neighbors"
   ]
  },
  {
   "cell_type": "code",
   "execution_count": 79,
   "id": "17e47bc4",
   "metadata": {},
   "outputs": [
    {
     "name": "stdout",
     "output_type": "stream",
     "text": [
      "0.979\n",
      "[[25  1]\n",
      " [ 0 22]]\n",
      "              precision    recall  f1-score   support\n",
      "\n",
      "           0       1.00      0.96      0.98        26\n",
      "           1       0.96      1.00      0.98        22\n",
      "\n",
      "    accuracy                           0.98        48\n",
      "   macro avg       0.98      0.98      0.98        48\n",
      "weighted avg       0.98      0.98      0.98        48\n",
      "\n"
     ]
    }
   ],
   "source": [
    "sc = StandardScaler()\n",
    "sc.fit(New_X)\n",
    "X_trainKnn = sc.transform(New_X)\n",
    "\n",
    "\n",
    "knn_pred = knn.predict(X_trainKnn)\n",
    "\n",
    "# Evaluating Prediction\n",
    "print(accuracy_score(New_Y, knn_pred).round(3))\n",
    "print(confusion_matrix(New_Y, knn_pred))\n",
    "print(classification_report(New_Y, knn_pred))"
   ]
  },
  {
   "cell_type": "markdown",
   "id": "eaac695a",
   "metadata": {},
   "source": [
    "# Gradient Booster"
   ]
  },
  {
   "cell_type": "code",
   "execution_count": 81,
   "id": "0de85581",
   "metadata": {},
   "outputs": [
    {
     "name": "stdout",
     "output_type": "stream",
     "text": [
      "1.0\n",
      "[[26  0]\n",
      " [ 0 22]]\n",
      "              precision    recall  f1-score   support\n",
      "\n",
      "           0       1.00      1.00      1.00        26\n",
      "           1       1.00      1.00      1.00        22\n",
      "\n",
      "    accuracy                           1.00        48\n",
      "   macro avg       1.00      1.00      1.00        48\n",
      "weighted avg       1.00      1.00      1.00        48\n",
      "\n"
     ]
    }
   ],
   "source": [
    "gb_pred = gb.predict(New_X)\n",
    "\n",
    "#Evaluating Prediction\n",
    "print(accuracy_score(New_Y, gb_pred).round(3))\n",
    "print(confusion_matrix(New_Y, gb_pred))\n",
    "print(classification_report(New_Y, gb_pred))"
   ]
  },
  {
   "cell_type": "markdown",
   "id": "d39cc956",
   "metadata": {},
   "source": [
    "# Conclusion\n",
    "    Well, two of the models working perfectly! So, We can choose one of the for the implimentation "
   ]
  },
  {
   "cell_type": "code",
   "execution_count": null,
   "id": "537eee3d",
   "metadata": {},
   "outputs": [],
   "source": []
  }
 ],
 "metadata": {
  "kernelspec": {
   "display_name": "Python 3",
   "language": "python",
   "name": "python3"
  },
  "language_info": {
   "codemirror_mode": {
    "name": "ipython",
    "version": 3
   },
   "file_extension": ".py",
   "mimetype": "text/x-python",
   "name": "python",
   "nbconvert_exporter": "python",
   "pygments_lexer": "ipython3",
   "version": "3.8.8"
  }
 },
 "nbformat": 4,
 "nbformat_minor": 5
}
